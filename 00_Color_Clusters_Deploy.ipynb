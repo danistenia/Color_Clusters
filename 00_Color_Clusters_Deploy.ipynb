{
  "nbformat": 4,
  "nbformat_minor": 0,
  "metadata": {
    "colab": {
      "name": "00_Color_Clusters_Deploy.ipynb",
      "provenance": [],
      "collapsed_sections": []
    },
    "kernelspec": {
      "name": "python3",
      "display_name": "Python 3"
    },
    "language_info": {
      "name": "python"
    }
  },
  "cells": [
    {
      "cell_type": "code",
      "metadata": {
        "id": "ZUCady5ala27"
      },
      "source": [
        "!pip install gradio"
      ],
      "execution_count": null,
      "outputs": []
    },
    {
      "cell_type": "code",
      "metadata": {
        "colab": {
          "base_uri": "https://localhost:8080/",
          "height": 648
        },
        "id": "UUnV8z4UfZqv",
        "outputId": "2dde7d81-621c-451a-97b7-1c73ef931a0c"
      },
      "source": [
        "%matplotlib inline\n",
        "import matplotlib.pyplot as plt\n",
        "import matplotlib.image as mpimg\n",
        "import pandas as pd\n",
        "import numpy as np\n",
        "from sklearn.utils import shuffle\n",
        "from sklearn.cluster import KMeans\n",
        "import seaborn as sns\n",
        "import gradio as gr\n",
        "\n",
        "\n",
        "def image_less_colors(image, num_colors):\n",
        "  unique_colors = len(np.unique(image.reshape(-1, image.shape[2]), axis=0))\n",
        "  train_size = int(len(image.reshape(-1, image.shape[2]))*0.5)\n",
        "  imagen = image.reshape((image.shape[0] * image.shape[1], 3))\n",
        "  image_array_sample = shuffle(imagen, random_state=0)[:train_size]\n",
        "  kmeans = KMeans(n_clusters=int(num_colors), random_state=42).fit(image_array_sample)\n",
        "  labels = kmeans.predict(imagen)\n",
        "  centers = kmeans.cluster_centers_\n",
        "  d = centers.shape[1]\n",
        "  w, h, _ = image.shape\n",
        "  image = np.zeros((w, h, d))\n",
        "  label_idx = 0\n",
        "  for i in range(w):\n",
        "      for j in range(h):\n",
        "          image[i][j] = centers[labels[label_idx]]\n",
        "          label_idx += 1\n",
        "\n",
        "  colores_descrip = {\n",
        "      \"Número de colores imagen original\": unique_colors,\n",
        "      \"Número de colores actuales que elegiste\": num_colors,\n",
        "  }\n",
        "  return image/255, colores_descrip\n",
        "\n",
        "\n",
        "iface = gr.Interface(\n",
        "  fn=image_less_colors, \n",
        "  inputs=[\"image\", \"number\"],\n",
        "  outputs=[\n",
        "           gr.outputs.Image(),\n",
        "           \"key_values\"\n",
        "  ],\n",
        "  title='Color Reduction App',\n",
        "  description='Al arrastrar/subir una imagen podrás elegir al número de colores que deseas reducir, en la imagen que aparecerá en la derecha verás el resultado!')\n",
        "iface.launch()"
      ],
      "execution_count": 2,
      "outputs": [
        {
          "output_type": "stream",
          "name": "stdout",
          "text": [
            "Colab notebook detected. To show errors in colab notebook, set `debug=True` in `launch()`\n",
            "This share link will expire in 24 hours. If you need a permanent link, visit: https://gradio.app/introducing-hosted (NEW!)\n",
            "Running on External URL: https://27331.gradio.app\n",
            "Interface loading below...\n"
          ]
        },
        {
          "output_type": "display_data",
          "data": {
            "text/html": [
              "\n",
              "        <iframe\n",
              "            width=\"900\"\n",
              "            height=\"500\"\n",
              "            src=\"https://27331.gradio.app\"\n",
              "            frameborder=\"0\"\n",
              "            allowfullscreen\n",
              "        ></iframe>\n",
              "        "
            ],
            "text/plain": [
              "<IPython.lib.display.IFrame at 0x7f58618faf90>"
            ]
          },
          "metadata": {}
        },
        {
          "output_type": "execute_result",
          "data": {
            "text/plain": [
              "(<Flask 'gradio.networking'>,\n",
              " 'http://127.0.0.1:7860/',\n",
              " 'https://27331.gradio.app')"
            ]
          },
          "metadata": {},
          "execution_count": 2
        }
      ]
    },
    {
      "cell_type": "code",
      "metadata": {
        "id": "q7RshSKbnkRC"
      },
      "source": [
        ""
      ],
      "execution_count": null,
      "outputs": []
    }
  ]
}